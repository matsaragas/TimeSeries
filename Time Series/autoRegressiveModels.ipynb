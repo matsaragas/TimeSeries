{
 "cells": [
  {
   "cell_type": "code",
   "execution_count": 9,
   "id": "438fdc99",
   "metadata": {},
   "outputs": [],
   "source": [
    "import pandas as pd\n",
    "import numpy as np\n",
    "import yfinance as yf\n",
    "from pandas_datareader import data as pdr\n",
    "from datetime import datetime\n",
    "import matplotlib.pyplot as plt\n",
    "import seaborn\n",
    "import statsmodels.api as sm\n",
    "\n",
    "\n",
    "start = \"2017-1-1\"\n",
    "symbols_list = ['AMZN', 'AAL']"
   ]
  },
  {
   "cell_type": "code",
   "execution_count": 16,
   "id": "7705f436",
   "metadata": {},
   "outputs": [],
   "source": [
    "import matplotlib as mpl"
   ]
  },
  {
   "cell_type": "code",
   "execution_count": 15,
   "id": "b62b601c",
   "metadata": {},
   "outputs": [
    {
     "data": {
      "text/plain": [
       "'3.3.4'"
      ]
     },
     "execution_count": 15,
     "metadata": {},
     "output_type": "execute_result"
    }
   ],
   "source": [
    "matplotlib.__version__"
   ]
  },
  {
   "cell_type": "code",
   "execution_count": 119,
   "id": "14a9e8a4",
   "metadata": {},
   "outputs": [
    {
     "name": "stdout",
     "output_type": "stream",
     "text": [
      "[*********************100%***********************]  1 of 1 completed\n"
     ]
    }
   ],
   "source": [
    "start_date = datetime(2020, 1, 1)\n",
    "end_date = datetime(2021, 1, 1)\n",
    "  \n",
    "# get the data\n",
    "data = yf.download('AMZN')"
   ]
  },
  {
   "cell_type": "code",
   "execution_count": 120,
   "id": "f2d69603",
   "metadata": {},
   "outputs": [],
   "source": [
    "data = data.reset_index()\n",
    "data = data[['Date', 'Close']]"
   ]
  },
  {
   "cell_type": "code",
   "execution_count": 121,
   "id": "babf13ec",
   "metadata": {},
   "outputs": [
    {
     "data": {
      "text/plain": [
       "<AxesSubplot:>"
      ]
     },
     "execution_count": 121,
     "metadata": {},
     "output_type": "execute_result"
    },
    {
     "data": {
      "image/png": "[encoded data removed]",
      "text/plain": [
       "<Figure size 432x288 with 1 Axes>"
      ]
     },
     "metadata": {
      "needs_background": "light"
     },
     "output_type": "display_data"
    }
   ],
   "source": [
    "data['Close'].plot()"
   ]
  },
  {
   "cell_type": "code",
   "execution_count": 122,
   "id": "b3623bd2",
   "metadata": {},
   "outputs": [
    {
     "data": {
      "image/png": "[encoded data removed]",
      "text/plain": [
       "<Figure size 864x576 with 1 Axes>"
      ]
     },
     "metadata": {
      "needs_background": "light"
     },
     "output_type": "display_data"
    }
   ],
   "source": [
    "with mpl.rc_context():\n",
    "    mpl.rc(\"figure\", figsize=(12, 8))\n",
    "    sm.graphics.tsa.plot_acf(data['Close'], lags = 40)"
   ]
  },
  {
   "cell_type": "markdown",
   "id": "daa3e38c",
   "metadata": {},
   "source": [
    "## Time Series Analysis \n",
    "\n",
    "It definitely appears to have a trend in the time series. Before we explore the autocorellation in the time series data we have to make sure that we detrend the time series. This means that we need to make sure that our time series is stationary before we explore the auto-correlation.\n",
    "\n",
    "\n",
    "In general time series are composed by three different components:\n",
    "\n",
    "1) Trend: is the overall change over time, e.g. steady growth or decline in values. An example for the trend is the constantly growing energy consumptions in most countries.\n",
    "\n",
    "2) The Seasonality: is the results of seasonal effects i.e., regularly recurring effects that lead to an increase or decrease with respect to the general trend.\n",
    "\n",
    "3) The autocorrelation between observations R_t. The Autocorrelation models how the value at time t depends on the prior values, i.e., how x_t is correlated with x_{t-1}, x_{t-2}. The autocorrelation models the changes in time series that are not explained by the trens or seasonality.\n",
    "\n",
    "So, before we start exploring autocorrelation we need to make sure that our time series are stationary.\n",
    "\n",
    "ADF test is used to determine the presence of unit root in the series. and thus help us understand if the ts is stationary or not. \n",
    "\n",
    "- Null hypothesis: The series has a unit root\n",
    "- Alternative Hypothesis: The series has no unit root.\n",
    "\n",
    "If we fail to reject the null hypothesis, the test may provide evidence that the series is not stationary.\n",
    "\n",
    "\n"
   ]
  },
  {
   "cell_type": "code",
   "execution_count": 123,
   "id": "495b44b3",
   "metadata": {},
   "outputs": [
    {
     "name": "stdout",
     "output_type": "stream",
     "text": [
      "Results of Dickey - Fuller test:\n",
      "Test Statistic            -0.505672\n",
      "p-value                    0.890905\n",
      "# of Lags                 34.000000\n",
      "# of Obs used           6429.000000\n",
      "Critical Value (1%)       -3.431368\n",
      "Critical Value (5%)       -2.861990\n",
      "Critical Value (10%)      -2.567009\n",
      "dtype: float64\n"
     ]
    }
   ],
   "source": [
    "from statsmodels.tsa.stattools import adfuller\n",
    "\n",
    "def adf_test(ts):\n",
    "    print('Results of Dickey - Fuller test:')\n",
    "    dftest = adfuller(ts, autolag = 'AIC')\n",
    "    dfoutput = pd.Series(dftest[0:4], \n",
    "                         index = [\n",
    "                             'Test Statistic',\n",
    "                             'p-value',\n",
    "                             '# of Lags',\n",
    "                             '# of Obs used'])\n",
    "    for key, value in dftest[4].items():\n",
    "        dfoutput[\"Critical Value (%s)\" % key] = value\n",
    "        \n",
    "    print(dfoutput)\n",
    "\n",
    "ts = data['Close']\n",
    "adf_test(ts)"
   ]
  },
  {
   "cell_type": "markdown",
   "id": "a40622b7",
   "metadata": {},
   "source": [
    "Base on the p-value, we cannot reject the null hypothesis. So, our series is not stationary. Let's now try to convert the ts to stationary by applying differencing.\n"
   ]
  },
  {
   "cell_type": "code",
   "execution_count": 124,
   "id": "2c48f568",
   "metadata": {},
   "outputs": [
    {
     "data": {
      "text/plain": [
       "<AxesSubplot:>"
      ]
     },
     "execution_count": 124,
     "metadata": {},
     "output_type": "execute_result"
    },
    {
     "data": {
      "image/png": "[encoded data removed]",
      "text/plain": [
       "<Figure size 432x288 with 1 Axes>"
      ]
     },
     "metadata": {
      "needs_background": "light"
     },
     "output_type": "display_data"
    }
   ],
   "source": [
    "data['logClose'] = np.log(data['Close'])\n",
    "data['logCloseDiff'] = data['logClose'] - data['logClose'].shift(1)\n",
    "data['logCloseDiff'].dropna().plot()\n",
    " "
   ]
  },
  {
   "cell_type": "code",
   "execution_count": 125,
   "id": "5832ed15",
   "metadata": {},
   "outputs": [
    {
     "name": "stdout",
     "output_type": "stream",
     "text": [
      "Results of Dickey - Fuller test:\n",
      "Test Statistic         -1.366847e+01\n",
      "p-value                 1.475142e-25\n",
      "# of Lags               3.300000e+01\n",
      "# of Obs used           6.429000e+03\n",
      "Critical Value (1%)    -3.431368e+00\n",
      "Critical Value (5%)    -2.861990e+00\n",
      "Critical Value (10%)   -2.567009e+00\n",
      "dtype: float64\n"
     ]
    }
   ],
   "source": [
    "adf_test(data['logCloseDiff'].dropna())"
   ]
  },
  {
   "cell_type": "markdown",
   "id": "5eb408ed",
   "metadata": {},
   "source": [
    "# Correlogram"
   ]
  },
  {
   "cell_type": "code",
   "execution_count": 126,
   "id": "c939b6b6",
   "metadata": {},
   "outputs": [
    {
     "data": {
      "image/png": "[encoded data removed]",
      "text/plain": [
       "<Figure size 864x576 with 1 Axes>"
      ]
     },
     "metadata": {
      "needs_background": "light"
     },
     "output_type": "display_data"
    }
   ],
   "source": [
    "with mpl.rc_context():\n",
    "    mpl.rc(\"figure\", figsize=(12, 8))\n",
    "    sm.graphics.tsa.plot_acf(data['logCloseDiff'].dropna(), lags = 40)"
   ]
  },
  {
   "cell_type": "markdown",
   "id": "294865ab",
   "metadata": {},
   "source": [
    "From the above correlogram, it appears that there are a few peaks. "
   ]
  },
  {
   "cell_type": "markdown",
   "id": "31d60990",
   "metadata": {},
   "source": [
    "## Fit an AR(p) model and Use AIC to identify optiomal p\n",
    "\n",
    "To identify the optimal order of the model we use the Akaike Information critetion (AIC). Our goal is to identify p tha minimizes the AIC $AIC = -\\frac{2}{T} ln(likelihood) + p \\frac{2}{T}$, where $p$ is the number of parameters and $T$ is the sample size."
   ]
  },
  {
   "cell_type": "code",
   "execution_count": 127,
   "id": "644653e2",
   "metadata": {},
   "outputs": [],
   "source": [
    "from statsmodels.tsa.ar_model import AutoReg, ar_select_order"
   ]
  },
  {
   "cell_type": "code",
   "execution_count": 128,
   "id": "77694121",
   "metadata": {},
   "outputs": [
    {
     "name": "stdout",
     "output_type": "stream",
     "text": [
      "                            AutoReg Model Results                             \n",
      "==============================================================================\n",
      "Dep. Variable:           logCloseDiff   No. Observations:                 6463\n",
      "Model:                     AutoReg(7)   Log Likelihood               12373.707\n",
      "Method:               Conditional MLE   S.D. of innovations              0.036\n",
      "Date:                Sat, 21 Jan 2023   AIC                         -24729.413\n",
      "Time:                        11:32:31   BIC                         -24668.459\n",
      "Sample:                             7   HQIC                        -24708.324\n",
      "                                 6463                                         \n",
      "===================================================================================\n",
      "                      coef    std err          z      P>|z|      [0.025      0.975]\n",
      "-----------------------------------------------------------------------------------\n",
      "const               0.0011      0.000      2.519      0.012       0.000       0.002\n",
      "logCloseDiff.L1     0.0046      0.012      0.372      0.710      -0.020       0.029\n",
      "logCloseDiff.L2    -0.0254      0.012     -2.039      0.041      -0.050      -0.001\n",
      "logCloseDiff.L3     0.0118      0.012      0.949      0.342      -0.013       0.036\n",
      "logCloseDiff.L4     0.0014      0.012      0.116      0.908      -0.023       0.026\n",
      "logCloseDiff.L5    -0.0101      0.012     -0.812      0.417      -0.034       0.014\n",
      "logCloseDiff.L6     0.0054      0.012      0.437      0.662      -0.019       0.030\n",
      "logCloseDiff.L7    -0.0040      0.012     -0.321      0.748      -0.028       0.020\n",
      "                                    Roots                                    \n",
      "=============================================================================\n",
      "                  Real          Imaginary           Modulus         Frequency\n",
      "-----------------------------------------------------------------------------\n",
      "AR.1           -2.0005           -0.0000j            2.0005           -0.5000\n",
      "AR.2           -1.0393           -1.7482j            2.0338           -0.3354\n",
      "AR.3           -1.0393           +1.7482j            2.0338            0.3354\n",
      "AR.4            2.0654           -1.0233j            2.3050           -0.0732\n",
      "AR.5            2.0654           +1.0233j            2.3050            0.0732\n",
      "AR.6            0.6552           -2.2977j            2.3893           -0.2058\n",
      "AR.7            0.6552           +2.2977j            2.3893            0.2058\n",
      "-----------------------------------------------------------------------------\n"
     ]
    },
    {
     "name": "stderr",
     "output_type": "stream",
     "text": [
      "/Users/petros-pavlosypsilantis/opt/anaconda3/lib/python3.8/site-packages/statsmodels/tsa/base/tsa_model.py:471: ValueWarning: An unsupported index was provided and will be ignored when e.g. forecasting.\n",
      "  self._init_dates(dates, freq)\n"
     ]
    }
   ],
   "source": [
    "#AIC = float('inf')\n",
    "#p = None\n",
    "#for i in range(40):\n",
    "#    mod = AutoReg(data['CloseDiff'].dropna(), i, old_names=False)\n",
    "#    res = mod.fit()\n",
    "#    if AIC > res.aic:\n",
    "#        AIC = res.aic\n",
    "#        p = i\n",
    "        \n",
    "mod = AutoReg(data['logCloseDiff'].dropna(), 7)\n",
    "res = mod.fit()\n",
    "print(res.summary())"
   ]
  },
  {
   "cell_type": "markdown",
   "id": "b93e16d1",
   "metadata": {},
   "source": [
    "## Model Checking\n",
    "\n",
    "To check whether the model we fit is adequate to describe all the autocorrelation in the time series we check whether the residuals behave as white noise. White noise is when there is no correlation in the residuals."
   ]
  },
  {
   "cell_type": "code",
   "execution_count": 129,
   "id": "9962cd6a",
   "metadata": {},
   "outputs": [
    {
     "data": {
      "image/png": "[encoded data removed]",
      "text/plain": [
       "<Figure size 864x576 with 1 Axes>"
      ]
     },
     "metadata": {
      "needs_background": "light"
     },
     "output_type": "display_data"
    }
   ],
   "source": [
    "with mpl.rc_context():\n",
    "    mpl.rc(\"figure\", figsize=(12, 8))\n",
    "    sm.graphics.tsa.plot_acf(res.resid, lags = 40)"
   ]
  },
  {
   "cell_type": "markdown",
   "id": "e4b9e5b0",
   "metadata": {},
   "source": [
    "We can see some peaks in the correlogram of the residuals which indicates that the our AR(p)\n",
    "model is not adequate enough to capture all the autocorrelation. We can also use the Ljung - Box statistic to check the closenes of the residualts to white noise."
   ]
  },
  {
   "cell_type": "code",
   "execution_count": 130,
   "id": "fec8cfe6",
   "metadata": {},
   "outputs": [
    {
     "data": {
      "text/html": [
       "<div>\n",
       "<style scoped>\n",
       "    .dataframe tbody tr th:only-of-type {\n",
       "        vertical-align: middle;\n",
       "    }\n",
       "\n",
       "    .dataframe tbody tr th {\n",
       "        vertical-align: top;\n",
       "    }\n",
       "\n",
       "    .dataframe thead th {\n",
       "        text-align: right;\n",
       "    }\n",
       "</style>\n",
       "<table border=\"1\" class=\"dataframe\">\n",
       "  <thead>\n",
       "    <tr style=\"text-align: right;\">\n",
       "      <th></th>\n",
       "      <th>lb_stat</th>\n",
       "      <th>lb_pvalue</th>\n",
       "    </tr>\n",
       "  </thead>\n",
       "  <tbody>\n",
       "    <tr>\n",
       "      <th>1</th>\n",
       "      <td>0.000168</td>\n",
       "      <td>0.989656</td>\n",
       "    </tr>\n",
       "    <tr>\n",
       "      <th>2</th>\n",
       "      <td>0.001435</td>\n",
       "      <td>0.999283</td>\n",
       "    </tr>\n",
       "    <tr>\n",
       "      <th>3</th>\n",
       "      <td>0.001451</td>\n",
       "      <td>0.999985</td>\n",
       "    </tr>\n",
       "    <tr>\n",
       "      <th>4</th>\n",
       "      <td>0.003921</td>\n",
       "      <td>0.999998</td>\n",
       "    </tr>\n",
       "    <tr>\n",
       "      <th>5</th>\n",
       "      <td>0.004661</td>\n",
       "      <td>1.000000</td>\n",
       "    </tr>\n",
       "    <tr>\n",
       "      <th>6</th>\n",
       "      <td>0.004662</td>\n",
       "      <td>1.000000</td>\n",
       "    </tr>\n",
       "    <tr>\n",
       "      <th>7</th>\n",
       "      <td>0.008981</td>\n",
       "      <td>1.000000</td>\n",
       "    </tr>\n",
       "    <tr>\n",
       "      <th>8</th>\n",
       "      <td>1.938965</td>\n",
       "      <td>0.982826</td>\n",
       "    </tr>\n",
       "    <tr>\n",
       "      <th>9</th>\n",
       "      <td>2.623115</td>\n",
       "      <td>0.977387</td>\n",
       "    </tr>\n",
       "    <tr>\n",
       "      <th>10</th>\n",
       "      <td>3.235753</td>\n",
       "      <td>0.975319</td>\n",
       "    </tr>\n",
       "    <tr>\n",
       "      <th>11</th>\n",
       "      <td>3.247090</td>\n",
       "      <td>0.987041</td>\n",
       "    </tr>\n",
       "    <tr>\n",
       "      <th>12</th>\n",
       "      <td>3.252956</td>\n",
       "      <td>0.993479</td>\n",
       "    </tr>\n",
       "    <tr>\n",
       "      <th>13</th>\n",
       "      <td>4.173740</td>\n",
       "      <td>0.989199</td>\n",
       "    </tr>\n",
       "    <tr>\n",
       "      <th>14</th>\n",
       "      <td>4.285219</td>\n",
       "      <td>0.993491</td>\n",
       "    </tr>\n",
       "    <tr>\n",
       "      <th>15</th>\n",
       "      <td>10.380751</td>\n",
       "      <td>0.795131</td>\n",
       "    </tr>\n",
       "    <tr>\n",
       "      <th>16</th>\n",
       "      <td>13.606634</td>\n",
       "      <td>0.627993</td>\n",
       "    </tr>\n",
       "    <tr>\n",
       "      <th>17</th>\n",
       "      <td>15.086953</td>\n",
       "      <td>0.589218</td>\n",
       "    </tr>\n",
       "    <tr>\n",
       "      <th>18</th>\n",
       "      <td>21.461936</td>\n",
       "      <td>0.256751</td>\n",
       "    </tr>\n",
       "    <tr>\n",
       "      <th>19</th>\n",
       "      <td>22.881865</td>\n",
       "      <td>0.242585</td>\n",
       "    </tr>\n",
       "    <tr>\n",
       "      <th>20</th>\n",
       "      <td>23.613114</td>\n",
       "      <td>0.259701</td>\n",
       "    </tr>\n",
       "    <tr>\n",
       "      <th>21</th>\n",
       "      <td>24.828261</td>\n",
       "      <td>0.254679</td>\n",
       "    </tr>\n",
       "    <tr>\n",
       "      <th>22</th>\n",
       "      <td>30.645810</td>\n",
       "      <td>0.103594</td>\n",
       "    </tr>\n",
       "    <tr>\n",
       "      <th>23</th>\n",
       "      <td>34.382155</td>\n",
       "      <td>0.059831</td>\n",
       "    </tr>\n",
       "    <tr>\n",
       "      <th>24</th>\n",
       "      <td>36.777516</td>\n",
       "      <td>0.046047</td>\n",
       "    </tr>\n",
       "    <tr>\n",
       "      <th>25</th>\n",
       "      <td>37.973131</td>\n",
       "      <td>0.046542</td>\n",
       "    </tr>\n",
       "    <tr>\n",
       "      <th>26</th>\n",
       "      <td>38.597520</td>\n",
       "      <td>0.053241</td>\n",
       "    </tr>\n",
       "    <tr>\n",
       "      <th>27</th>\n",
       "      <td>53.454693</td>\n",
       "      <td>0.001773</td>\n",
       "    </tr>\n",
       "    <tr>\n",
       "      <th>28</th>\n",
       "      <td>57.781420</td>\n",
       "      <td>0.000776</td>\n",
       "    </tr>\n",
       "    <tr>\n",
       "      <th>29</th>\n",
       "      <td>57.813178</td>\n",
       "      <td>0.001146</td>\n",
       "    </tr>\n",
       "  </tbody>\n",
       "</table>\n",
       "</div>"
      ],
      "text/plain": [
       "      lb_stat  lb_pvalue\n",
       "1    0.000168   0.989656\n",
       "2    0.001435   0.999283\n",
       "3    0.001451   0.999985\n",
       "4    0.003921   0.999998\n",
       "5    0.004661   1.000000\n",
       "6    0.004662   1.000000\n",
       "7    0.008981   1.000000\n",
       "8    1.938965   0.982826\n",
       "9    2.623115   0.977387\n",
       "10   3.235753   0.975319\n",
       "11   3.247090   0.987041\n",
       "12   3.252956   0.993479\n",
       "13   4.173740   0.989199\n",
       "14   4.285219   0.993491\n",
       "15  10.380751   0.795131\n",
       "16  13.606634   0.627993\n",
       "17  15.086953   0.589218\n",
       "18  21.461936   0.256751\n",
       "19  22.881865   0.242585\n",
       "20  23.613114   0.259701\n",
       "21  24.828261   0.254679\n",
       "22  30.645810   0.103594\n",
       "23  34.382155   0.059831\n",
       "24  36.777516   0.046047\n",
       "25  37.973131   0.046542\n",
       "26  38.597520   0.053241\n",
       "27  53.454693   0.001773\n",
       "28  57.781420   0.000776\n",
       "29  57.813178   0.001146"
      ]
     },
     "execution_count": 130,
     "metadata": {},
     "output_type": "execute_result"
    }
   ],
   "source": [
    "sm.stats.acorr_ljungbox(res.resid, lags = range(1,30),return_df=True)\n"
   ]
  },
  {
   "cell_type": "markdown",
   "id": "9d40a67c",
   "metadata": {},
   "source": [
    "It appears that AR model is capable of explaining away some of the autocorrelation in the residuals of the first order difference daily log ref prices but it appears that the effect of volatilty clustering (See the plot of the log returns above) and long memory effects cannot be account and therefore one may need high order model to adequately describe the dynamic structure of he data."
   ]
  },
  {
   "cell_type": "markdown",
   "id": "6ae7f0ca",
   "metadata": {},
   "source": [
    "## ARMA and ARIMA"
   ]
  },
  {
   "cell_type": "markdown",
   "id": "70349cfe",
   "metadata": {},
   "source": [
    "The moving average model AM is a linear combination of the past white noise terms. Intuitevely, this means that the MA model sees such random white noise shocks directly at each current value of the model. This is in contrast to an AR(p) model where the white noise shocks are only seen indirectly via regression onto previous terms of the series. MA models are always weekly stationary because they are finite linear combinations of a white noise sequence for which the first two moments are time invariant.\n",
    "\n",
    "MA(1): $r_{t} = c_{0} + a_{t} - \\theta_{1}a_{t-1}$\n",
    "\n",
    "ARMA model combine AR and MA, with AR to consider its own past behavious as input and as such trying to capture market participants behaviour, such as momentum and mean reversion in stock trading. The latter MA model is used to characterise shock information to a series such as surprise earning anouncements or unexpected events (e.g. BP Deepwater horizon). So, ARMA attemtps to capture both these scenarios.\n",
    "\n",
    "ARMA(p, q): $r_t = \\phi_{0} + \\sum_{i}^{p} \\phi_{i=1} r_{t-i} + a_{t} - \\sum_{j=1}^{q} \\theta_{j} a_{t-j}$"
   ]
  },
  {
   "cell_type": "code",
   "execution_count": null,
   "id": "8ee1d2af",
   "metadata": {},
   "outputs": [],
   "source": []
  }
 ],
 "metadata": {
  "kernelspec": {
   "display_name": "Python 3",
   "language": "python",
   "name": "python3"
  },
  "language_info": {
   "codemirror_mode": {
    "name": "ipython",
    "version": 3
   },
   "file_extension": ".py",
   "mimetype": "text/x-python",
   "name": "python",
   "nbconvert_exporter": "python",
   "pygments_lexer": "ipython3",
   "version": "3.8.8"
  }
 },
 "nbformat": 4,
 "nbformat_minor": 5
}
