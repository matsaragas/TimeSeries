{
 "cells": [
  {
   "cell_type": "code",
   "execution_count": 3,
   "id": "a60d3f7a",
   "metadata": {},
   "outputs": [],
   "source": [
    "import pandas as pd\n",
    "import numpy as np\n",
    "import yfinance as yf\n",
    "from pandas_datareader import data as pdr\n",
    "from datetime import datetime\n",
    "import matplotlib.pyplot as plt\n",
    "import seaborn"
   ]
  },
  {
   "cell_type": "code",
   "execution_count": null,
   "id": "20772738",
   "metadata": {},
   "outputs": [],
   "source": []
  },
  {
   "cell_type": "code",
   "execution_count": 4,
   "id": "57a9f09d",
   "metadata": {},
   "outputs": [],
   "source": [
    "start = \"2017-1-1\" #datetime(2017, 1, 1)\n",
    "symbols_list = ['AAPL', 'F', 'TWTR', 'FB', 'AAL', 'AMZN', 'GOOGL', 'GE']"
   ]
  },
  {
   "cell_type": "code",
   "execution_count": 5,
   "id": "08a37b13",
   "metadata": {},
   "outputs": [
    {
     "name": "stdout",
     "output_type": "stream",
     "text": [
      "[*********************100%***********************]  1 of 1 completed\n",
      "[*********************100%***********************]  1 of 1 completed\n",
      "[*********************100%***********************]  1 of 1 completed\n",
      "[*********************100%***********************]  1 of 1 completed\n",
      "\n",
      "1 Failed download:\n",
      "- FB: No timezone found, symbol may be delisted\n",
      "[*********************100%***********************]  1 of 1 completed\n",
      "[*********************100%***********************]  1 of 1 completed\n",
      "[*********************100%***********************]  1 of 1 completed\n",
      "[*********************100%***********************]  1 of 1 completed\n"
     ]
    },
    {
     "data": {
      "text/html": [
       "<div>\n",
       "<style scoped>\n",
       "    .dataframe tbody tr th:only-of-type {\n",
       "        vertical-align: middle;\n",
       "    }\n",
       "\n",
       "    .dataframe tbody tr th {\n",
       "        vertical-align: top;\n",
       "    }\n",
       "\n",
       "    .dataframe thead th {\n",
       "        text-align: right;\n",
       "    }\n",
       "</style>\n",
       "<table border=\"1\" class=\"dataframe\">\n",
       "  <thead>\n",
       "    <tr style=\"text-align: right;\">\n",
       "      <th></th>\n",
       "      <th>Date</th>\n",
       "      <th>Close</th>\n",
       "      <th>Symbol</th>\n",
       "    </tr>\n",
       "  </thead>\n",
       "  <tbody>\n",
       "    <tr>\n",
       "      <th>0</th>\n",
       "      <td>2017-01-03 00:00:00-05:00</td>\n",
       "      <td>29.037500</td>\n",
       "      <td>AAPL</td>\n",
       "    </tr>\n",
       "    <tr>\n",
       "      <th>1</th>\n",
       "      <td>2017-01-04 00:00:00-05:00</td>\n",
       "      <td>29.004999</td>\n",
       "      <td>AAPL</td>\n",
       "    </tr>\n",
       "    <tr>\n",
       "      <th>2</th>\n",
       "      <td>2017-01-05 00:00:00-05:00</td>\n",
       "      <td>29.152500</td>\n",
       "      <td>AAPL</td>\n",
       "    </tr>\n",
       "    <tr>\n",
       "      <th>3</th>\n",
       "      <td>2017-01-06 00:00:00-05:00</td>\n",
       "      <td>29.477501</td>\n",
       "      <td>AAPL</td>\n",
       "    </tr>\n",
       "    <tr>\n",
       "      <th>4</th>\n",
       "      <td>2017-01-09 00:00:00-05:00</td>\n",
       "      <td>29.747499</td>\n",
       "      <td>AAPL</td>\n",
       "    </tr>\n",
       "  </tbody>\n",
       "</table>\n",
       "</div>"
      ],
      "text/plain": [
       "                       Date      Close Symbol\n",
       "0 2017-01-03 00:00:00-05:00  29.037500   AAPL\n",
       "1 2017-01-04 00:00:00-05:00  29.004999   AAPL\n",
       "2 2017-01-05 00:00:00-05:00  29.152500   AAPL\n",
       "3 2017-01-06 00:00:00-05:00  29.477501   AAPL\n",
       "4 2017-01-09 00:00:00-05:00  29.747499   AAPL"
      ]
     },
     "execution_count": 5,
     "metadata": {},
     "output_type": "execute_result"
    }
   ],
   "source": [
    "symbols=[]\n",
    "yf.pdr_override()\n",
    "#pull price using iex for each symbol in list defined above\n",
    "for ticker in symbols_list:\n",
    "    # Download market data from yahoo\n",
    "    r = pdr.get_data_yahoo(ticker, start)\n",
    "    # add a symbol column\n",
    "    r['Symbol'] = ticker \n",
    "    symbols.append(r)\n",
    "    \n",
    "df = pd.concat(symbols)\n",
    "df = df.reset_index()\n",
    "df = df[['Date', 'Close', 'Symbol']]\n",
    "df.head()"
   ]
  },
  {
   "cell_type": "code",
   "execution_count": 6,
   "id": "0b6609ae",
   "metadata": {},
   "outputs": [
    {
     "data": {
      "text/plain": [
       "array(['AAPL', 'F', 'TWTR', 'AAL', 'AMZN', 'GOOGL', 'GE'], dtype=object)"
      ]
     },
     "execution_count": 6,
     "metadata": {},
     "output_type": "execute_result"
    }
   ],
   "source": [
    "df['Symbol'].unique()"
   ]
  },
  {
   "cell_type": "code",
   "execution_count": 7,
   "id": "47894c63",
   "metadata": {},
   "outputs": [
    {
     "data": {
      "text/plain": [
       "<AxesSubplot:>"
      ]
     },
     "execution_count": 7,
     "metadata": {},
     "output_type": "execute_result"
    },
    {
     "data": {
      "image/png": "[encoded data removed]",
      "text/plain": [
       "<Figure size 432x288 with 1 Axes>"
      ]
     },
     "metadata": {
      "needs_background": "light"
     },
     "output_type": "display_data"
    }
   ],
   "source": [
    "df[df['Symbol']=='AMZN']['Close'].plot()"
   ]
  },
  {
   "cell_type": "markdown",
   "id": "8c7ad825",
   "metadata": {},
   "source": [
    "## Multivariate TS Analysis\n",
    "\n",
    "It is important to know how the markets are interrelated. Also, for investors holding multiple assets, the dynamic relationships between returns of the asses is important in decision making. Let ${\\bf r}_{t} = (r_{1t}, ... r_{kt})$ be the log returns of k assets at time t.\n",
    "\n",
    "### Weak Stationarity and Cross-Correlation Matrices\n",
    "\n",
    "Consider ${\\bf r}_{t}$. ${\\bf r}_{t}$ is weakly stationary if the first and second moments are time-invariant. In particular the mean vector and covariance matrix of a weakly stationary series are constant over time.\n",
    "\n",
    "For ${\\bf r}_{t}$, we define its mean vector and covariance matrix as ${\\bf \\mu} = E({\\bf r}_{t})$ and ${\\bf \\Gamma}_{0} = E[({\\bf r}_{t} - {\\bf \\mu})({\\bf r}_{t} - {\\bf \\mu})']$. ${\\mu}$ is a k-dimensional vector, ${\\bf \\Gamma}_{0}$ is a $k \\times k$ matrix. The $i-th$ diagonal element is of ${\\bf \\Gamma}_{0}$ is the variance of $r_{it}$, whereas the $(i, j)th$ element is the covariance between $r_{it}$ and $r_{jt}$\n",
    "\n",
    "Let $D$ be $k \\times k$ diagonal matrix consisting of the standard deviations of $r_{it}$, so $D = diag\\{ \\sqrt{\\Gamma_{11}(0)}, ..., \\sqrt{\\Gamma_{kk}(0)} \\}$. The concurrent or lag-zero, cross-correlation matrix of ${\\bf r}_{t}$ is defined as,\n",
    "\n",
    "\\begin{equation}\n",
    "{\\bf \\rho}_{0} = [\\rho_{ij}(0)] = D^{-1} {\\bf \\Gamma}_{0} D^{-1}\n",
    "\\end{equation}\n",
    "\n",
    "The $(i,j)th$ element of ${\\bf \\rho}_{0}$ is\n",
    "\n",
    "\\begin{equation}\n",
    "\\rho_{ij}(0) = \\frac{Cov(r_{it}, r_{jt})}{std(r_{it})std(jt)}\n",
    "\\end{equation}\n",
    "\n",
    "The lag-$\\ell$ cross-correlation matrix (CCM) of ${\\bf r}_{t}$ is \n",
    "\n",
    "\\begin{equation}\n",
    "{\\bf \\rho}_{\\ell} = [\\rho_{ij}(\\lambda)] = D^{-1} {\\bf \\Gamma}_{\\ell} D^{-1}\n",
    "\\end{equation}\n",
    "\n",
    "### Sample Cross - Correlation Matrices\n",
    "\n",
    "Given the data $\\{{\\bf r}_{t} | t = 1, ..., T\\}$, the cross - covariance matrix can be estimated as\n",
    "\n",
    "\\begin{equation}\n",
    "\\hat{ \\Gamma_{\\ell}} = \\frac{1}{T} \\sum_{t = \\ell + 1}^{T}({\\bf r}_{t} - \\bar{{\\bf r}})({\\bf r}_{t-\\ell} - \\bar{{\\bf r}})',\n",
    "\\end{equation}\n",
    "where $\\bar{{\\bf r}} = (\\sum_{t=1}^{T} {\\bf r}_{t})/T$ is the vector sample means.\n",
    "\n",
    "The cross correlation matrix ${\\bf \\rho}_{\\ell}$\n",
    "\n",
    "\\begin{equation}\n",
    "\\hat{{\\bf \\rho}}_{\\ell} = \\hat{D}^{-1} \\hat{{\\bf \\Gamma}}_{\\ell} \\hat{D}^{-1}\n",
    "\\end{equation}"
   ]
  },
  {
   "cell_type": "code",
   "execution_count": null,
   "id": "8f7eeb22",
   "metadata": {},
   "outputs": [],
   "source": []
  }
 ],
 "metadata": {
  "kernelspec": {
   "display_name": "Python 3",
   "language": "python",
   "name": "python3"
  },
  "language_info": {
   "codemirror_mode": {
    "name": "ipython",
    "version": 3
   },
   "file_extension": ".py",
   "mimetype": "text/x-python",
   "name": "python",
   "nbconvert_exporter": "python",
   "pygments_lexer": "ipython3",
   "version": "3.8.8"
  }
 },
 "nbformat": 4,
 "nbformat_minor": 5
}
